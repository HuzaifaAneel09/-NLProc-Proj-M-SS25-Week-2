{
 "cells": [
  {
   "cell_type": "code",
   "execution_count": 1,
   "id": "a8450e6a",
   "metadata": {},
   "outputs": [
    {
     "name": "stdout",
     "output_type": "stream",
     "text": [
      "Requirement already satisfied: sentence-transformers in c:\\users\\aneel\\.conda\\envs\\nlp-faiss\\lib\\site-packages (4.1.0)\n",
      "Requirement already satisfied: scikit-learn in c:\\users\\aneel\\.conda\\envs\\nlp-faiss\\lib\\site-packages (1.6.1)\n",
      "Requirement already satisfied: matplotlib in c:\\users\\aneel\\.conda\\envs\\nlp-faiss\\lib\\site-packages (3.10.1)\n",
      "Requirement already satisfied: transformers<5.0.0,>=4.41.0 in c:\\users\\aneel\\.conda\\envs\\nlp-faiss\\lib\\site-packages (from sentence-transformers) (4.51.3)\n",
      "Requirement already satisfied: tqdm in c:\\users\\aneel\\.conda\\envs\\nlp-faiss\\lib\\site-packages (from sentence-transformers) (4.67.1)\n",
      "Requirement already satisfied: torch>=1.11.0 in c:\\users\\aneel\\.conda\\envs\\nlp-faiss\\lib\\site-packages (from sentence-transformers) (2.7.0)\n",
      "Requirement already satisfied: scipy in c:\\users\\aneel\\.conda\\envs\\nlp-faiss\\lib\\site-packages (from sentence-transformers) (1.15.2)\n",
      "Requirement already satisfied: huggingface-hub>=0.20.0 in c:\\users\\aneel\\.conda\\envs\\nlp-faiss\\lib\\site-packages (from sentence-transformers) (0.30.2)\n",
      "Requirement already satisfied: Pillow in c:\\users\\aneel\\.conda\\envs\\nlp-faiss\\lib\\site-packages (from sentence-transformers) (11.2.1)\n",
      "Requirement already satisfied: typing_extensions>=4.5.0 in c:\\users\\aneel\\.conda\\envs\\nlp-faiss\\lib\\site-packages (from sentence-transformers) (4.13.2)\n",
      "Requirement already satisfied: numpy>=1.19.5 in c:\\users\\aneel\\.conda\\envs\\nlp-faiss\\lib\\site-packages (from scikit-learn) (2.2.5)\n",
      "Requirement already satisfied: joblib>=1.2.0 in c:\\users\\aneel\\.conda\\envs\\nlp-faiss\\lib\\site-packages (from scikit-learn) (1.4.2)\n",
      "Requirement already satisfied: threadpoolctl>=3.1.0 in c:\\users\\aneel\\.conda\\envs\\nlp-faiss\\lib\\site-packages (from scikit-learn) (3.6.0)\n",
      "Requirement already satisfied: contourpy>=1.0.1 in c:\\users\\aneel\\.conda\\envs\\nlp-faiss\\lib\\site-packages (from matplotlib) (1.3.2)\n",
      "Requirement already satisfied: cycler>=0.10 in c:\\users\\aneel\\.conda\\envs\\nlp-faiss\\lib\\site-packages (from matplotlib) (0.12.1)\n",
      "Requirement already satisfied: fonttools>=4.22.0 in c:\\users\\aneel\\.conda\\envs\\nlp-faiss\\lib\\site-packages (from matplotlib) (4.57.0)\n",
      "Requirement already satisfied: kiwisolver>=1.3.1 in c:\\users\\aneel\\.conda\\envs\\nlp-faiss\\lib\\site-packages (from matplotlib) (1.4.8)\n",
      "Requirement already satisfied: packaging>=20.0 in c:\\users\\aneel\\.conda\\envs\\nlp-faiss\\lib\\site-packages (from matplotlib) (25.0)\n",
      "Requirement already satisfied: pyparsing>=2.3.1 in c:\\users\\aneel\\.conda\\envs\\nlp-faiss\\lib\\site-packages (from matplotlib) (3.2.3)\n",
      "Requirement already satisfied: python-dateutil>=2.7 in c:\\users\\aneel\\.conda\\envs\\nlp-faiss\\lib\\site-packages (from matplotlib) (2.9.0.post0)\n",
      "Requirement already satisfied: filelock in c:\\users\\aneel\\.conda\\envs\\nlp-faiss\\lib\\site-packages (from huggingface-hub>=0.20.0->sentence-transformers) (3.18.0)\n",
      "Requirement already satisfied: fsspec>=2023.5.0 in c:\\users\\aneel\\.conda\\envs\\nlp-faiss\\lib\\site-packages (from huggingface-hub>=0.20.0->sentence-transformers) (2025.3.2)\n",
      "Requirement already satisfied: pyyaml>=5.1 in c:\\users\\aneel\\.conda\\envs\\nlp-faiss\\lib\\site-packages (from huggingface-hub>=0.20.0->sentence-transformers) (6.0.2)\n",
      "Requirement already satisfied: requests in c:\\users\\aneel\\.conda\\envs\\nlp-faiss\\lib\\site-packages (from huggingface-hub>=0.20.0->sentence-transformers) (2.32.3)\n",
      "Requirement already satisfied: six>=1.5 in c:\\users\\aneel\\.conda\\envs\\nlp-faiss\\lib\\site-packages (from python-dateutil>=2.7->matplotlib) (1.17.0)\n",
      "Requirement already satisfied: sympy>=1.13.3 in c:\\users\\aneel\\.conda\\envs\\nlp-faiss\\lib\\site-packages (from torch>=1.11.0->sentence-transformers) (1.14.0)\n",
      "Requirement already satisfied: networkx in c:\\users\\aneel\\.conda\\envs\\nlp-faiss\\lib\\site-packages (from torch>=1.11.0->sentence-transformers) (3.4.2)\n",
      "Requirement already satisfied: jinja2 in c:\\users\\aneel\\.conda\\envs\\nlp-faiss\\lib\\site-packages (from torch>=1.11.0->sentence-transformers) (3.1.6)\n",
      "Requirement already satisfied: colorama in c:\\users\\aneel\\.conda\\envs\\nlp-faiss\\lib\\site-packages (from tqdm->sentence-transformers) (0.4.6)\n",
      "Requirement already satisfied: regex!=2019.12.17 in c:\\users\\aneel\\.conda\\envs\\nlp-faiss\\lib\\site-packages (from transformers<5.0.0,>=4.41.0->sentence-transformers) (2024.11.6)\n",
      "Requirement already satisfied: tokenizers<0.22,>=0.21 in c:\\users\\aneel\\.conda\\envs\\nlp-faiss\\lib\\site-packages (from transformers<5.0.0,>=4.41.0->sentence-transformers) (0.21.1)\n",
      "Requirement already satisfied: safetensors>=0.4.3 in c:\\users\\aneel\\.conda\\envs\\nlp-faiss\\lib\\site-packages (from transformers<5.0.0,>=4.41.0->sentence-transformers) (0.5.3)\n",
      "Requirement already satisfied: mpmath<1.4,>=1.1.0 in c:\\users\\aneel\\.conda\\envs\\nlp-faiss\\lib\\site-packages (from sympy>=1.13.3->torch>=1.11.0->sentence-transformers) (1.3.0)\n",
      "Requirement already satisfied: MarkupSafe>=2.0 in c:\\users\\aneel\\.conda\\envs\\nlp-faiss\\lib\\site-packages (from jinja2->torch>=1.11.0->sentence-transformers) (3.0.2)\n",
      "Requirement already satisfied: charset-normalizer<4,>=2 in c:\\users\\aneel\\.conda\\envs\\nlp-faiss\\lib\\site-packages (from requests->huggingface-hub>=0.20.0->sentence-transformers) (3.4.1)\n",
      "Requirement already satisfied: idna<4,>=2.5 in c:\\users\\aneel\\.conda\\envs\\nlp-faiss\\lib\\site-packages (from requests->huggingface-hub>=0.20.0->sentence-transformers) (3.10)\n",
      "Requirement already satisfied: urllib3<3,>=1.21.1 in c:\\users\\aneel\\.conda\\envs\\nlp-faiss\\lib\\site-packages (from requests->huggingface-hub>=0.20.0->sentence-transformers) (2.4.0)\n",
      "Requirement already satisfied: certifi>=2017.4.17 in c:\\users\\aneel\\.conda\\envs\\nlp-faiss\\lib\\site-packages (from requests->huggingface-hub>=0.20.0->sentence-transformers) (2025.4.26)\n",
      "Note: you may need to restart the kernel to use updated packages.\n"
     ]
    }
   ],
   "source": [
    "%pip install -U sentence-transformers scikit-learn matplotlib"
   ]
  },
  {
   "cell_type": "code",
   "execution_count": 2,
   "id": "cea21f06",
   "metadata": {},
   "outputs": [
    {
     "name": "stderr",
     "output_type": "stream",
     "text": [
      "c:\\Users\\aneel\\.conda\\envs\\nlp-faiss\\lib\\site-packages\\tqdm\\auto.py:21: TqdmWarning: IProgress not found. Please update jupyter and ipywidgets. See https://ipywidgets.readthedocs.io/en/stable/user_install.html\n",
      "  from .autonotebook import tqdm as notebook_tqdm\n"
     ]
    }
   ],
   "source": [
    "from sentence_transformers import SentenceTransformer\n",
    "from sklearn.metrics.pairwise import cosine_similarity\n",
    "from sklearn.decomposition import PCA\n",
    "import matplotlib.pyplot as plt\n",
    "import numpy as np"
   ]
  },
  {
   "cell_type": "code",
   "execution_count": 3,
   "id": "c06205d8",
   "metadata": {},
   "outputs": [
    {
     "name": "stderr",
     "output_type": "stream",
     "text": [
      "c:\\Users\\aneel\\.conda\\envs\\nlp-faiss\\lib\\site-packages\\huggingface_hub\\file_download.py:144: UserWarning: `huggingface_hub` cache-system uses symlinks by default to efficiently store duplicated files but your machine does not support them in C:\\Users\\aneel\\.cache\\huggingface\\hub\\models--sentence-transformers--all-MiniLM-L6-v2. Caching files will still work but in a degraded version that might require more space on your disk. This warning can be disabled by setting the `HF_HUB_DISABLE_SYMLINKS_WARNING` environment variable. For more details, see https://huggingface.co/docs/huggingface_hub/how-to-cache#limitations.\n",
      "To support symlinks on Windows, you either need to activate Developer Mode or to run Python as an administrator. In order to activate developer mode, see this article: https://docs.microsoft.com/en-us/windows/apps/get-started/enable-your-device-for-development\n",
      "  warnings.warn(message)\n",
      "Xet Storage is enabled for this repo, but the 'hf_xet' package is not installed. Falling back to regular HTTP download. For better performance, install the package with: `pip install huggingface_hub[hf_xet]` or `pip install hf_xet`\n"
     ]
    }
   ],
   "source": [
    "model = SentenceTransformer('all-MiniLM-L6-v2')"
   ]
  },
  {
   "cell_type": "code",
   "execution_count": 4,
   "id": "a7219f31",
   "metadata": {},
   "outputs": [],
   "source": [
    "sentences = [\n",
    "    \"How's the weather today?\",\n",
    "    \"What's the temperature like outside?\",\n",
    "    \"Will it rain tomorrow?\",\n",
    "    \"Tell me a joke.\",\n",
    "    \"I love eating pizza.\",\n",
    "    \"Can you recommend a movie?\",\n",
    "    \"Is it sunny right now?\",\n",
    "    \"Let's go for a walk.\",\n",
    "    \"The forecast says it will snow.\",\n",
    "    \"Who won the game last night?\"\n",
    "]\n"
   ]
  },
  {
   "cell_type": "code",
   "execution_count": 5,
   "id": "5f15d5d2",
   "metadata": {},
   "outputs": [],
   "source": [
    "embeddings = model.encode(sentences)"
   ]
  },
  {
   "cell_type": "code",
   "execution_count": 6,
   "id": "dfbb8656",
   "metadata": {},
   "outputs": [
    {
     "name": "stdout",
     "output_type": "stream",
     "text": [
      "Similarity between:\n",
      "  \"How's the weather today?\"\n",
      "  and \"What's the temperature like outside?\" = 0.61\n",
      "\n",
      "Similarity between:\n",
      "  \"How's the weather today?\"\n",
      "  and \"Will it rain tomorrow?\" = 0.55\n",
      "\n",
      "Similarity between:\n",
      "  \"How's the weather today?\"\n",
      "  and \"Tell me a joke.\" = 0.22\n",
      "\n",
      "Similarity between:\n",
      "  \"How's the weather today?\"\n",
      "  and \"I love eating pizza.\" = 0.10\n",
      "\n",
      "Similarity between:\n",
      "  \"How's the weather today?\"\n",
      "  and \"Can you recommend a movie?\" = 0.07\n",
      "\n",
      "Similarity between:\n",
      "  \"How's the weather today?\"\n",
      "  and \"Is it sunny right now?\" = 0.57\n",
      "\n",
      "Similarity between:\n",
      "  \"How's the weather today?\"\n",
      "  and \"Let's go for a walk.\" = 0.17\n",
      "\n",
      "Similarity between:\n",
      "  \"How's the weather today?\"\n",
      "  and \"The forecast says it will snow.\" = 0.42\n",
      "\n",
      "Similarity between:\n",
      "  \"How's the weather today?\"\n",
      "  and \"Who won the game last night?\" = 0.32\n",
      "\n",
      "Similarity between:\n",
      "  \"What's the temperature like outside?\"\n",
      "  and \"Will it rain tomorrow?\" = 0.33\n",
      "\n",
      "Similarity between:\n",
      "  \"What's the temperature like outside?\"\n",
      "  and \"Tell me a joke.\" = 0.15\n",
      "\n",
      "Similarity between:\n",
      "  \"What's the temperature like outside?\"\n",
      "  and \"I love eating pizza.\" = 0.15\n",
      "\n",
      "Similarity between:\n",
      "  \"What's the temperature like outside?\"\n",
      "  and \"Can you recommend a movie?\" = 0.03\n",
      "\n",
      "Similarity between:\n",
      "  \"What's the temperature like outside?\"\n",
      "  and \"Is it sunny right now?\" = 0.45\n",
      "\n",
      "Similarity between:\n",
      "  \"What's the temperature like outside?\"\n",
      "  and \"Let's go for a walk.\" = 0.12\n",
      "\n",
      "Similarity between:\n",
      "  \"What's the temperature like outside?\"\n",
      "  and \"The forecast says it will snow.\" = 0.35\n",
      "\n",
      "Similarity between:\n",
      "  \"What's the temperature like outside?\"\n",
      "  and \"Who won the game last night?\" = 0.19\n",
      "\n",
      "Similarity between:\n",
      "  \"Will it rain tomorrow?\"\n",
      "  and \"Tell me a joke.\" = 0.14\n",
      "\n",
      "Similarity between:\n",
      "  \"Will it rain tomorrow?\"\n",
      "  and \"I love eating pizza.\" = 0.04\n",
      "\n",
      "Similarity between:\n",
      "  \"Will it rain tomorrow?\"\n",
      "  and \"Can you recommend a movie?\" = 0.11\n",
      "\n",
      "Similarity between:\n",
      "  \"Will it rain tomorrow?\"\n",
      "  and \"Is it sunny right now?\" = 0.51\n",
      "\n",
      "Similarity between:\n",
      "  \"Will it rain tomorrow?\"\n",
      "  and \"Let's go for a walk.\" = 0.25\n",
      "\n",
      "Similarity between:\n",
      "  \"Will it rain tomorrow?\"\n",
      "  and \"The forecast says it will snow.\" = 0.61\n",
      "\n",
      "Similarity between:\n",
      "  \"Will it rain tomorrow?\"\n",
      "  and \"Who won the game last night?\" = 0.21\n",
      "\n",
      "Similarity between:\n",
      "  \"Tell me a joke.\"\n",
      "  and \"I love eating pizza.\" = 0.16\n",
      "\n",
      "Similarity between:\n",
      "  \"Tell me a joke.\"\n",
      "  and \"Can you recommend a movie?\" = 0.21\n",
      "\n",
      "Similarity between:\n",
      "  \"Tell me a joke.\"\n",
      "  and \"Is it sunny right now?\" = 0.15\n",
      "\n",
      "Similarity between:\n",
      "  \"Tell me a joke.\"\n",
      "  and \"Let's go for a walk.\" = 0.24\n",
      "\n",
      "Similarity between:\n",
      "  \"Tell me a joke.\"\n",
      "  and \"The forecast says it will snow.\" = 0.15\n",
      "\n",
      "Similarity between:\n",
      "  \"Tell me a joke.\"\n",
      "  and \"Who won the game last night?\" = 0.16\n",
      "\n",
      "Similarity between:\n",
      "  \"I love eating pizza.\"\n",
      "  and \"Can you recommend a movie?\" = 0.12\n",
      "\n",
      "Similarity between:\n",
      "  \"I love eating pizza.\"\n",
      "  and \"Is it sunny right now?\" = 0.12\n",
      "\n",
      "Similarity between:\n",
      "  \"I love eating pizza.\"\n",
      "  and \"Let's go for a walk.\" = 0.24\n",
      "\n",
      "Similarity between:\n",
      "  \"I love eating pizza.\"\n",
      "  and \"The forecast says it will snow.\" = 0.01\n",
      "\n",
      "Similarity between:\n",
      "  \"I love eating pizza.\"\n",
      "  and \"Who won the game last night?\" = 0.06\n",
      "\n",
      "Similarity between:\n",
      "  \"Can you recommend a movie?\"\n",
      "  and \"Is it sunny right now?\" = 0.15\n",
      "\n",
      "Similarity between:\n",
      "  \"Can you recommend a movie?\"\n",
      "  and \"Let's go for a walk.\" = 0.18\n",
      "\n",
      "Similarity between:\n",
      "  \"Can you recommend a movie?\"\n",
      "  and \"The forecast says it will snow.\" = 0.01\n",
      "\n",
      "Similarity between:\n",
      "  \"Can you recommend a movie?\"\n",
      "  and \"Who won the game last night?\" = 0.02\n",
      "\n",
      "Similarity between:\n",
      "  \"Is it sunny right now?\"\n",
      "  and \"Let's go for a walk.\" = 0.21\n",
      "\n",
      "Similarity between:\n",
      "  \"Is it sunny right now?\"\n",
      "  and \"The forecast says it will snow.\" = 0.34\n",
      "\n",
      "Similarity between:\n",
      "  \"Is it sunny right now?\"\n",
      "  and \"Who won the game last night?\" = 0.26\n",
      "\n",
      "Similarity between:\n",
      "  \"Let's go for a walk.\"\n",
      "  and \"The forecast says it will snow.\" = 0.14\n",
      "\n",
      "Similarity between:\n",
      "  \"Let's go for a walk.\"\n",
      "  and \"Who won the game last night?\" = 0.16\n",
      "\n",
      "Similarity between:\n",
      "  \"The forecast says it will snow.\"\n",
      "  and \"Who won the game last night?\" = 0.14\n",
      "\n"
     ]
    }
   ],
   "source": [
    "similarity_matrix = cosine_similarity(embeddings)\n",
    "\n",
    "# Print similarity between each pair\n",
    "for i in range(len(sentences)):\n",
    "    for j in range(i+1, len(sentences)):\n",
    "        print(f\"Similarity between:\\n  \\\"{sentences[i]}\\\"\\n  and \\\"{sentences[j]}\\\" = {similarity_matrix[i][j]:.2f}\\n\")"
   ]
  },
  {
   "cell_type": "code",
   "execution_count": 7,
   "id": "34fb9017",
   "metadata": {},
   "outputs": [
    {
     "data": {
      "image/png": "[encoded data removed]",
      "text/plain": [
       "<Figure size 1000x600 with 1 Axes>"
      ]
     },
     "metadata": {},
     "output_type": "display_data"
    }
   ],
   "source": [
    "pca = PCA(n_components=2)\n",
    "reduced = pca.fit_transform(embeddings)\n",
    "\n",
    "plt.figure(figsize=(10, 6))\n",
    "for i, sentence in enumerate(sentences):\n",
    "    x, y = reduced[i]\n",
    "    plt.scatter(x, y)\n",
    "    plt.text(x + 0.01, y + 0.01, sentence, fontsize=9)\n",
    "\n",
    "plt.title(\"Sentence Embeddings Visualized with PCA\")\n",
    "plt.xlabel(\"PC 1\")\n",
    "plt.ylabel(\"PC 2\")\n",
    "plt.grid(True)\n",
    "plt.show()\n"
   ]
  },
  {
   "cell_type": "markdown",
   "id": "1c2a26c2",
   "metadata": {},
   "source": [
    "## Task 2: FAISS for Similarity Search"
   ]
  },
  {
   "cell_type": "code",
   "execution_count": null,
   "id": "124e6b76",
   "metadata": {},
   "outputs": [
    {
     "name": "stdout",
     "output_type": "stream",
     "text": [
      "Requirement already satisfied: faiss-cpu in c:\\users\\aneel\\.conda\\envs\\nlp-faiss\\lib\\site-packages (1.11.0)\n",
      "Requirement already satisfied: numpy<3.0,>=1.25.0 in c:\\users\\aneel\\.conda\\envs\\nlp-faiss\\lib\\site-packages (from faiss-cpu) (2.2.5)\n",
      "Requirement already satisfied: packaging in c:\\users\\aneel\\.conda\\envs\\nlp-faiss\\lib\\site-packages (from faiss-cpu) (25.0)\n"
     ]
    }
   ],
   "source": [
    "%pip install faiss-cpu"
   ]
  },
  {
   "cell_type": "code",
   "execution_count": 10,
   "id": "1469449d",
   "metadata": {},
   "outputs": [],
   "source": [
    "import faiss\n",
    "import numpy as np\n",
    "from sentence_transformers import SentenceTransformer"
   ]
  },
  {
   "cell_type": "code",
   "execution_count": 11,
   "id": "1be95ea1",
   "metadata": {},
   "outputs": [],
   "source": [
    "text_chunks = [\n",
    "    \"The Eiffel Tower is located in Paris, France.\",\n",
    "    \"The Great Wall of China stretches over 13,000 miles.\",\n",
    "    \"The capital of Japan is Tokyo.\",\n",
    "    \"Python is a popular programming language for data science.\",\n",
    "    \"Pandas is a library used for data manipulation in Python.\",\n",
    "    \"Mount Everest is the tallest mountain in the world.\",\n",
    "    \"The Taj Mahal was built in the 17th century in India.\",\n",
    "    \"The Amazon rainforest is the largest tropical rainforest.\",\n",
    "    \"Basketball is a sport played between two teams of five players.\",\n",
    "    \"Water boils at 100 degrees Celsius at sea level.\"\n",
    "]"
   ]
  },
  {
   "cell_type": "code",
   "execution_count": 12,
   "id": "1c3ce530",
   "metadata": {},
   "outputs": [],
   "source": [
    "model = SentenceTransformer('all-MiniLM-L6-v2')\n",
    "chunk_embeddings = model.encode(text_chunks)\n"
   ]
  },
  {
   "cell_type": "code",
   "execution_count": 13,
   "id": "22c35fe0",
   "metadata": {},
   "outputs": [],
   "source": [
    "dimension = chunk_embeddings.shape[1]\n",
    "index = faiss.IndexFlatL2(dimension)\n",
    "index.add(np.array(chunk_embeddings))\n"
   ]
  },
  {
   "cell_type": "code",
   "execution_count": 14,
   "id": "1aec01a8",
   "metadata": {},
   "outputs": [],
   "source": [
    "queries = [\n",
    "    \"Where is the Eiffel Tower?\",\n",
    "    \"What city is the Eiffel Tower in?\",\n",
    "    \"Tell me the location of the Eiffel Tower.\"\n",
    "]\n",
    "\n",
    "query_embeddings = model.encode(queries)\n"
   ]
  },
  {
   "cell_type": "code",
   "execution_count": 15,
   "id": "a740cbfd",
   "metadata": {},
   "outputs": [
    {
     "name": "stdout",
     "output_type": "stream",
     "text": [
      "\n",
      "Query 1: Where is the Eiffel Tower?\n",
      "  Rank 1: The Eiffel Tower is located in Paris, France. (distance: 0.29)\n",
      "  Rank 2: The Great Wall of China stretches over 13,000 miles. (distance: 1.55)\n",
      "  Rank 3: Mount Everest is the tallest mountain in the world. (distance: 1.60)\n",
      "\n",
      "Query 2: What city is the Eiffel Tower in?\n",
      "  Rank 1: The Eiffel Tower is located in Paris, France. (distance: 0.31)\n",
      "  Rank 2: The Great Wall of China stretches over 13,000 miles. (distance: 1.58)\n",
      "  Rank 3: Mount Everest is the tallest mountain in the world. (distance: 1.62)\n",
      "\n",
      "Query 3: Tell me the location of the Eiffel Tower.\n",
      "  Rank 1: The Eiffel Tower is located in Paris, France. (distance: 0.32)\n",
      "  Rank 2: The Great Wall of China stretches over 13,000 miles. (distance: 1.48)\n",
      "  Rank 3: Mount Everest is the tallest mountain in the world. (distance: 1.51)\n"
     ]
    }
   ],
   "source": [
    "top_k = 3\n",
    "\n",
    "for i, query in enumerate(queries):\n",
    "    print(f\"\\nQuery {i+1}: {query}\")\n",
    "    D, I = index.search(np.array([query_embeddings[i]]), top_k)\n",
    "\n",
    "    for rank, idx in enumerate(I[0]):\n",
    "        print(f\"  Rank {rank+1}: {text_chunks[idx]} (distance: {D[0][rank]:.2f})\")\n"
   ]
  }
 ],
 "metadata": {
  "kernelspec": {
   "display_name": "nlp-faiss",
   "language": "python",
   "name": "python3"
  },
  "language_info": {
   "codemirror_mode": {
    "name": "ipython",
    "version": 3
   },
   "file_extension": ".py",
   "mimetype": "text/x-python",
   "name": "python",
   "nbconvert_exporter": "python",
   "pygments_lexer": "ipython3",
   "version": "3.10.16"
  }
 },
 "nbformat": 4,
 "nbformat_minor": 5
}
